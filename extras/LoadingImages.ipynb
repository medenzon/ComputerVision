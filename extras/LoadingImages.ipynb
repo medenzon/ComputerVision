{
 "cells": [
  {
   "cell_type": "code",
   "execution_count": 1,
   "metadata": {
    "collapsed": false,
    "deletable": true,
    "editable": true
   },
   "outputs": [],
   "source": [
    "import CVFunctions as cv\n",
    "import numpy as np\n",
    "import cv2 as cv2\n",
    "import matplotlib.pyplot as plt\n",
    "import os\n",
    "%matplotlib inline\n",
    "\n",
    "# load template images\n",
    "filenames = os.listdir('validationset')\n",
    "\n",
    "images = []\n",
    "for filename in filenames:\n",
    "    if filename[-4:] == '.jpg':\n",
    "        images.append(cv2.imread('validationset/' + filename,0))"
   ]
  },
  {
   "cell_type": "code",
   "execution_count": null,
   "metadata": {
    "collapsed": true,
    "deletable": true,
    "editable": true
   },
   "outputs": [],
   "source": []
  },
  {
   "cell_type": "code",
   "execution_count": 2,
   "metadata": {
    "collapsed": false,
    "deletable": true,
    "editable": true
   },
   "outputs": [
    {
     "name": "stdout",
     "output_type": "stream",
     "text": [
      "[[ 17.  21.  17. ...,  20.  18.  23.]\n",
      " [ 17.  23.  21. ...,  29.  30.  27.]\n",
      " [ 24.  28.  27. ...,  32.  30.  29.]\n",
      " ..., \n",
      " [ 44.  43.  53. ...,  35.  45.  36.]\n",
      " [ 58.  37.  43. ...,  46.  54.  35.]\n",
      " [ 63.  28.  18. ...,  39.  38.  25.]]\n"
     ]
    },
    {
     "data": {
      "image/png": "[encoded data removed]",
      "text/plain": [
       "<matplotlib.figure.Figure at 0x1138fde90>"
      ]
     },
     "metadata": {},
     "output_type": "display_data"
    }
   ],
   "source": [
    "img_data = np.zeros((len(images),46,91))\n",
    "\n",
    "for i in range(len(images)):\n",
    "    img_data[i,:,:] = cv2.resize(images[i],(91,46))[:,:]\n",
    "    \n",
    "\n",
    "print img_data[0]\n",
    "cv.draw(img_data[0])"
   ]
  },
  {
   "cell_type": "code",
   "execution_count": 7,
   "metadata": {
    "collapsed": false,
    "deletable": true,
    "editable": true
   },
   "outputs": [
    {
     "name": "stdout",
     "output_type": "stream",
     "text": [
      "0.33104527055\n",
      "0.414844431697\n",
      "0.251459906985\n",
      "0.491464923689\n",
      "0.520496363354\n",
      "0.789905540565\n",
      "0.565445909693\n",
      "0.373250988268\n",
      "0.323765635119\n",
      "0.574073131425\n",
      "0.415287311061\n",
      "0.564543184705\n",
      "0.32418130047\n",
      "0.852326160014\n",
      "0.69775763124\n",
      "0.548826779384\n",
      "0.520137001635\n",
      "0.867707971661\n",
      "0.78690587846\n",
      "0.542317663611\n",
      "0.764923225712\n",
      "0.493748404537\n",
      "0.787024983493\n",
      "0.279814082237\n",
      "0.444855722104\n",
      "0.740519298159\n",
      "0.575681503255\n",
      "0.685359495657\n",
      "0.751862841284\n",
      "0.654264324744\n",
      "0.580171265655\n",
      "0.623881504143\n",
      "0.689635471823\n",
      "0.54014072218\n",
      "0.60665117944\n",
      "0.710206330612\n",
      "0.571516025005\n",
      "0.694008977293\n",
      "0.688284174833\n",
      "0.809896203486\n",
      "0.758696548314\n",
      "0.644587437605\n",
      "0.782729114629\n",
      "0.910419508583\n",
      "0.61081717866\n",
      "0.794794632224\n",
      "0.803676092182\n",
      "0.438216907359\n",
      "0.864632719505\n",
      "0.695102494135\n",
      "0.505596290533\n",
      "0.548439542553\n",
      "0.723712996151\n",
      "0.399770320894\n",
      "0.480371065162\n",
      "0.652775488917\n",
      "0.719015170383\n",
      "0.901378945645\n",
      "0.913238956344\n",
      "0.782765706155\n",
      "0.713596403823\n",
      "0.519886166947\n",
      "0.676030289389\n",
      "0.821465052843\n",
      "0.43888124299\n",
      "0.485285977748\n",
      "0.739828464113\n",
      "0.638136176864\n",
      "0.703079211157\n",
      "0.727436680434\n",
      "0.312711163702\n",
      "0.494062045557\n",
      "0.542783626732\n",
      "0.755665977091\n",
      "0.597826762265\n",
      "0.723160573182\n",
      "0.310466866417\n",
      "0.843623643623\n",
      "0.382838375174\n",
      "0.803428795305\n",
      "0.760623284584\n",
      "0.710012413076\n",
      "0.474737437929\n",
      "0.449886387575\n",
      "0.848173752191\n",
      "0.578750980864\n",
      "0.310520133722\n",
      "0.811224796858\n",
      "0.587484593792\n",
      "0.304309358865\n",
      "0.759971885376\n",
      "0.74438916958\n",
      "0.761632812769\n",
      "0.912886391931\n",
      "0.808990451338\n",
      "0.379178473746\n",
      "0.166655800642\n",
      "0.274165502137\n",
      "0.385758005595\n",
      "0.433311538843\n",
      "0.577455500288\n",
      "0.290126241719\n",
      "0.673423858171\n",
      "0.622559468959\n",
      "0.661662497552\n",
      "0.681591856476\n",
      "0.350454963741\n",
      "0.289578646944\n",
      "0.733079387877\n",
      "0.536771716868\n",
      "0.692138735479\n",
      "0.401440903034\n",
      "0.655751855787\n",
      "0.476820637634\n",
      "0.834868020221\n",
      "0.866646143906\n",
      "0.664548609138\n",
      "0.581407228526\n",
      "0.656154417134\n",
      "0.633113725427\n",
      "0.624549626649\n",
      "0.858576739078\n",
      "0.645006612613\n",
      "0.384190907153\n",
      "0.71880702021\n",
      "0.195861377719\n"
     ]
    },
    {
     "data": {
      "image/png": "[encoded data removed]",
      "text/plain": [
       "<matplotlib.figure.Figure at 0x11756d110>"
      ]
     },
     "metadata": {},
     "output_type": "display_data"
    }
   ],
   "source": [
    "\n",
    "img_sum = np.zeros((46,91))\n",
    "for img in img_data:\n",
    "    img_sum += img\n",
    "img_avg = np.divide(img_sum,126.0)\n",
    "cv.draw(img_avg)\n",
    "\n",
    "#cv.draw(np.divide(img_avg.astype(float),255))\n",
    "\n",
    "#print np.divide(img_avg.astype(float),255)\n",
    "#for img in img_data:\n",
    "    #print cv.J(img,img_avg)\n",
    "    \n",
    "for a in img_data:\n",
    "    maxJ = 0\n",
    "    for b in img_data:\n",
    "        J = cv.J(a,b)\n",
    "        if J > maxJ:\n",
    "            maxJ = J\n",
    "    print maxJ\n"
   ]
  },
  {
   "cell_type": "code",
   "execution_count": null,
   "metadata": {
    "collapsed": true,
    "deletable": true,
    "editable": true
   },
   "outputs": [],
   "source": []
  },
  {
   "cell_type": "code",
   "execution_count": 18,
   "metadata": {
    "collapsed": true,
    "deletable": true,
    "editable": true
   },
   "outputs": [],
   "source": [
    "def LoadMNIST(filename):\n",
    "    '''Written by GSY'''\n",
    "    with open(filename, 'rb') as f:\n",
    "        header = bytearray(f.read(4)) #read the header bytes\n",
    "        datatype = 'int32'  \n",
    "        typecode = header[2] # read the type byte\n",
    "        if(typecode==8):\n",
    "            datatype = '>u1';\n",
    "        elif(typecode == 12):\n",
    "            datatype = '>f4'\n",
    "        elif(typecode == 14):\n",
    "            datatype = '>f8'    \n",
    "        #print datatype\n",
    "        \n",
    "        size = np.fromfile(f, '>i4', header[3]) #read the dimensions of the array  \n",
    "        dshape = ()\n",
    "        count = 1\n",
    "        for d in range(0,len(size)):\n",
    "            count *= size[d]\n",
    "            dshape += (size[d], )        \n",
    "        #print dshape\n",
    "        data = np.fromfile(f, datatype, count) #read the array data\n",
    "        return data.reshape(dshape)"
   ]
  },
  {
   "cell_type": "code",
   "execution_count": null,
   "metadata": {
    "collapsed": false,
    "deletable": true,
    "editable": true
   },
   "outputs": [],
   "source": [
    "mnist_trn_data = LoadMNIST(mnist_trn_img).astype(np.float32)[:,np.newaxis,:,:]\n",
    "mnist_val_data = LoadMNIST(mnist_val_img).astype(np.float32)[:,np.newaxis,:,:]\n",
    "mnist_trn_label = LoadMNIST(mnist_trn_lab)\n",
    "mnist_val_label = LoadMNIST(mnist_val_lab)"
   ]
  },
  {
   "cell_type": "code",
   "execution_count": null,
   "metadata": {
    "collapsed": true,
    "deletable": true,
    "editable": true
   },
   "outputs": [],
   "source": []
  },
  {
   "cell_type": "code",
   "execution_count": null,
   "metadata": {
    "collapsed": true,
    "deletable": true,
    "editable": true
   },
   "outputs": [],
   "source": []
  }
 ],
 "metadata": {
  "kernelspec": {
   "display_name": "Python [conda root]",
   "language": "python",
   "name": "conda-root-py"
  },
  "language_info": {
   "codemirror_mode": {
    "name": "ipython",
    "version": 2
   },
   "file_extension": ".py",
   "mimetype": "text/x-python",
   "name": "python",
   "nbconvert_exporter": "python",
   "pygments_lexer": "ipython2",
   "version": "2.7.13"
  }
 },
 "nbformat": 4,
 "nbformat_minor": 2
}
