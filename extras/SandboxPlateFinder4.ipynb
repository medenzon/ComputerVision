{
 "cells": [
  {
   "cell_type": "code",
   "execution_count": 1,
   "metadata": {
    "collapsed": true,
    "deletable": true,
    "editable": true
   },
   "outputs": [],
   "source": [
    "import CVFunctions as cv\n",
    "import numpy as np\n",
    "import cv2 as cv2\n",
    "import matplotlib.pyplot as plt\n",
    "import os\n",
    "%matplotlib inline\n",
    "\n",
    "filenames = os.listdir('dataset')\n",
    "images = []\n",
    "for filename in filenames:\n",
    "    if filename[-4:] == '.jpg':\n",
    "        images.append(cv2.imread('dataset/' + filename,0))\n",
    "\n",
    "img_data = np.zeros((len(images),46,91))\n",
    "for i in range(len(images)):\n",
    "    img_data[i,:,:] = cv2.resize(images[i],(91,46))[:,:]\n",
    "\n",
    "filenames = os.listdir('validationset')\n",
    "validationImages = []\n",
    "for filename in filenames:\n",
    "    if filename[-4:] == '.jpg':\n",
    "        validationImages.append(cv2.imread('validationset/' + filename,0))\n",
    "        \n",
    "val_data = np.zeros((len(validationImages),46,91))\n",
    "for i in range(len(images)):\n",
    "    val_data[i,:,:] = cv2.resize(validationImages[i],(91,46))[:,:]"
   ]
  },
  {
   "cell_type": "code",
   "execution_count": 2,
   "metadata": {
    "collapsed": false,
    "deletable": true,
    "editable": true
   },
   "outputs": [
    {
     "data": {
      "text/plain": [
       "'def process_1(image):\\n    adjusted_img = image\\n    adjusted_img = cv2.GaussianBlur(adjusted_img, (19,11), 100)\\n    adjusted_img = cv.thresh(adjusted_img,85, 255, cv2.THRESH_BINARY)\\n    return adjusted_img\\n\\ndef process_2(image):\\n    adjusted_img = image\\n    adjusted_img = cv2.GaussianBlur(adjusted_img, (11,11), 20)\\n    adjusted_img = cv.thresh(adjusted_img,115, 255, cv2.THRESH_BINARY)\\n    return adjusted_img'"
      ]
     },
     "execution_count": 2,
     "metadata": {},
     "output_type": "execute_result"
    }
   ],
   "source": [
    "'''def process_1(image):\n",
    "    adjusted_img = image\n",
    "    adjusted_img = cv2.GaussianBlur(adjusted_img, (19,11), 100)\n",
    "    adjusted_img = cv.thresh(adjusted_img,85, 255, cv2.THRESH_BINARY)\n",
    "    return adjusted_img\n",
    "\n",
    "def process_2(image):\n",
    "    adjusted_img = image\n",
    "    adjusted_img = cv2.GaussianBlur(adjusted_img, (11,11), 20)\n",
    "    adjusted_img = cv.thresh(adjusted_img,115, 255, cv2.THRESH_BINARY)\n",
    "    return adjusted_img'''"
   ]
  },
  {
   "cell_type": "code",
   "execution_count": 3,
   "metadata": {
    "collapsed": false,
    "deletable": true,
    "editable": true
   },
   "outputs": [
    {
     "data": {
      "text/plain": [
       "'def possiblePlates_1(image):\\n    original_img = image\\n    contours = cv.findContours(process_1(original_img))\\n    contours = cv.getLargeContours(contours,original_img.shape)\\n    possible_plate_contours = []\\n    for i in range(len(contours)):\\n        x,y,w,h = cv2.boundingRect(contours[i])\\n        aspect = cv.aspectRatio(w,h)\\n        if (aspect > 1.8) and (aspect < 3):\\n            possible_plate_contours.append(contours[i])\\n    blank_img = np.zeros(image.shape)\\n    if len(possible_plate_contours) != 0:\\n        sub_images = []\\n        for contour in possible_plate_contours:\\n            x,y,w,h = cv2.boundingRect(contour)\\n            sub_images.append(original_img[y:y+h,x:x+w])\\n        return sub_images\\n    return [blank_img]'"
      ]
     },
     "execution_count": 3,
     "metadata": {},
     "output_type": "execute_result"
    }
   ],
   "source": [
    "'''def possiblePlates_1(image):\n",
    "    original_img = image\n",
    "    contours = cv.findContours(process_1(original_img))\n",
    "    contours = cv.getLargeContours(contours,original_img.shape)\n",
    "    possible_plate_contours = []\n",
    "    for i in range(len(contours)):\n",
    "        x,y,w,h = cv2.boundingRect(contours[i])\n",
    "        aspect = cv.aspectRatio(w,h)\n",
    "        if (aspect > 1.8) and (aspect < 3):\n",
    "            possible_plate_contours.append(contours[i])\n",
    "    blank_img = np.zeros(image.shape)\n",
    "    if len(possible_plate_contours) != 0:\n",
    "        sub_images = []\n",
    "        for contour in possible_plate_contours:\n",
    "            x,y,w,h = cv2.boundingRect(contour)\n",
    "            sub_images.append(original_img[y:y+h,x:x+w])\n",
    "        return sub_images\n",
    "    return [blank_img]'''"
   ]
  },
  {
   "cell_type": "code",
   "execution_count": 4,
   "metadata": {
    "collapsed": false,
    "deletable": true,
    "editable": true
   },
   "outputs": [
    {
     "data": {
      "text/plain": [
       "'def possiblePlates_2(image):\\n    original_img = image\\n    contours = cv.findContours(process_2(original_img))\\n    contours = cv.getLargeContours(contours,original_img.shape)\\n    possible_plate_contours = []\\n    for i in range(len(contours)):\\n        x,y,w,h = cv2.boundingRect(contours[i])\\n        aspect = cv.aspectRatio(w,h)\\n        if (aspect > 1.8) and (aspect < 3):\\n            possible_plate_contours.append(contours[i])\\n    blank_img = np.zeros(image.shape)\\n    if len(possible_plate_contours) != 0:\\n        sub_images = []\\n        for contour in possible_plate_contours:\\n            x,y,w,h = cv2.boundingRect(contour)\\n            sub_images.append(original_img[y:y+h,x:x+w])\\n        return sub_images\\n    return [blank_img]'"
      ]
     },
     "execution_count": 4,
     "metadata": {},
     "output_type": "execute_result"
    }
   ],
   "source": [
    "'''def possiblePlates_2(image):\n",
    "    original_img = image\n",
    "    contours = cv.findContours(process_2(original_img))\n",
    "    contours = cv.getLargeContours(contours,original_img.shape)\n",
    "    possible_plate_contours = []\n",
    "    for i in range(len(contours)):\n",
    "        x,y,w,h = cv2.boundingRect(contours[i])\n",
    "        aspect = cv.aspectRatio(w,h)\n",
    "        if (aspect > 1.8) and (aspect < 3):\n",
    "            possible_plate_contours.append(contours[i])\n",
    "    blank_img = np.zeros(image.shape)\n",
    "    if len(possible_plate_contours) != 0:\n",
    "        sub_images = []\n",
    "        for contour in possible_plate_contours:\n",
    "            x,y,w,h = cv2.boundingRect(contour)\n",
    "            sub_images.append(original_img[y:y+h,x:x+w])\n",
    "        return sub_images\n",
    "    return [blank_img]'''"
   ]
  },
  {
   "cell_type": "code",
   "execution_count": 8,
   "metadata": {
    "collapsed": true,
    "deletable": true,
    "editable": true
   },
   "outputs": [],
   "source": [
    "#def possiblePlates(image):\n",
    "    #return possiblePlates_1(image) + possiblePlates_2(image)"
   ]
  },
  {
   "cell_type": "code",
   "execution_count": 10,
   "metadata": {
    "collapsed": false,
    "deletable": true,
    "editable": true
   },
   "outputs": [],
   "source": [
    "p = cv.possiblePlates(images[0])\n",
    "for i in range(1,len(images)):\n",
    "    p += cv.possiblePlates(images[i])\n",
    "\n",
    "#img_data = np.zeros((len(p),46,91))\n",
    "#for i in range(len(p)):\n",
    "    #img_data[i,:,:] = cv2.resize(p[i],(91,46))[:,:]\n",
    "\n",
    "def avg():\n",
    "    img_sum = np.zeros((46,91))\n",
    "    for img in img_data:\n",
    "        img_sum += img\n",
    "    img_avg = np.divide(img_sum,126.0)\n",
    "    cv.draw(img_avg)"
   ]
  },
  {
   "cell_type": "code",
   "execution_count": null,
   "metadata": {
    "collapsed": false,
    "deletable": true,
    "editable": true
   },
   "outputs": [],
   "source": []
  },
  {
   "cell_type": "code",
   "execution_count": null,
   "metadata": {
    "collapsed": true,
    "deletable": true,
    "editable": true
   },
   "outputs": [],
   "source": []
  }
 ],
 "metadata": {
  "kernelspec": {
   "display_name": "Python [conda root]",
   "language": "python",
   "name": "conda-root-py"
  },
  "language_info": {
   "codemirror_mode": {
    "name": "ipython",
    "version": 2
   },
   "file_extension": ".py",
   "mimetype": "text/x-python",
   "name": "python",
   "nbconvert_exporter": "python",
   "pygments_lexer": "ipython2",
   "version": "2.7.13"
  }
 },
 "nbformat": 4,
 "nbformat_minor": 2
}
