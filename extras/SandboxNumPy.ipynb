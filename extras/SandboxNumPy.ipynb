{
 "cells": [
  {
   "cell_type": "code",
   "execution_count": null,
   "metadata": {
    "collapsed": true
   },
   "outputs": [],
   "source": [
    "import numpy as np\n",
    "import matplotlib.pyplot as plt\n",
    "%matplotlib inline"
   ]
  },
  {
   "cell_type": "code",
   "execution_count": null,
   "metadata": {
    "collapsed": true
   },
   "outputs": [],
   "source": [
    "def rnm(x, output_units):\n",
    "    '''random_nonlinear_mapping'''\n",
    "    W = np.random.normal(size=(x.shape[1], output_units))\n",
    "    b = np.random.normal(size=(1,output_units))\n",
    "    \n",
    "    return np.tanh(np.dot(x, W)+b)\n"
   ]
  },
  {
   "cell_type": "code",
   "execution_count": null,
   "metadata": {
    "collapsed": true
   },
   "outputs": [],
   "source": [
    "N = 4\n",
    "plt.figure(figsize=(5*N, 5))\n",
    "for d in range(N):\n",
    "    Y = rnm(X,output_units=2)\n",
    "    plt.subplot(1,N,d+1)\n",
    "    plt.scatter(Y[:,0], Y[:,1], marker='.')"
   ]
  }
 ],
 "metadata": {
  "kernelspec": {
   "display_name": "Python [conda root]",
   "language": "python",
   "name": "conda-root-py"
  },
  "language_info": {
   "codemirror_mode": {
    "name": "ipython",
    "version": 2
   },
   "file_extension": ".py",
   "mimetype": "text/x-python",
   "name": "python",
   "nbconvert_exporter": "python",
   "pygments_lexer": "ipython2",
   "version": "2.7.13"
  }
 },
 "nbformat": 4,
 "nbformat_minor": 2
}
